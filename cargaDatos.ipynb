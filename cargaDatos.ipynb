{
  "nbformat": 4,
  "nbformat_minor": 0,
  "metadata": {
    "kernelspec": {
      "display_name": "Python 3",
      "language": "python",
      "name": "python3"
    },
    "language_info": {
      "codemirror_mode": {
        "name": "ipython",
        "version": 3
      },
      "file_extension": ".py",
      "mimetype": "text/x-python",
      "name": "python",
      "nbconvert_exporter": "python",
      "pygments_lexer": "ipython3",
      "version": "3.7.4"
    },
    "colab": {
      "name": "cargaDatos.ipynb",
      "provenance": [],
      "collapsed_sections": [],
      "toc_visible": true,
      "include_colab_link": true
    }
  },
  "cells": [
    {
      "cell_type": "markdown",
      "metadata": {
        "id": "view-in-github",
        "colab_type": "text"
      },
      "source": [
        "<a href=\"https://colab.research.google.com/github/renatauribes/hello-world/blob/main/cargaDatos.ipynb\" target=\"_parent\"><img src=\"https://colab.research.google.com/assets/colab-badge.svg\" alt=\"Open In Colab\"/></a>"
      ]
    },
    {
      "cell_type": "markdown",
      "metadata": {
        "id": "7I5r1OWFnJB2"
      },
      "source": [
        "# Carga de datos"
      ]
    },
    {
      "cell_type": "code",
      "metadata": {
        "id": "kzyegpHrnoCf"
      },
      "source": [
        "from google.colab import drive\n"
      ],
      "execution_count": null,
      "outputs": []
    },
    {
      "cell_type": "code",
      "metadata": {
        "colab": {
          "base_uri": "https://localhost:8080/"
        },
        "id": "eUx3qWs6nryE",
        "outputId": "7b879da3-e672-482b-8740-1e06dbf7c9f8"
      },
      "source": [
        "drive.mount('/content/drive')\n"
      ],
      "execution_count": null,
      "outputs": [
        {
          "output_type": "stream",
          "text": [
            "Drive already mounted at /content/drive; to attempt to forcibly remount, call drive.mount(\"/content/drive\", force_remount=True).\n"
          ],
          "name": "stdout"
        }
      ]
    },
    {
      "cell_type": "code",
      "metadata": {
        "id": "eLrzwMNhnQQF"
      },
      "source": [
        ""
      ],
      "execution_count": null,
      "outputs": []
    },
    {
      "cell_type": "markdown",
      "metadata": {
        "id": "G5HJycuHnJB_"
      },
      "source": [
        "Importación de las librerías:."
      ]
    },
    {
      "cell_type": "code",
      "metadata": {
        "id": "u_GlaseUnJCA"
      },
      "source": [
        "import pandas as pd # Libreria para data frames\n",
        "import numpy as np # Libreria para operaciones matemáticas\n",
        "import matplotlib.pyplot as plt"
      ],
      "execution_count": null,
      "outputs": []
    },
    {
      "cell_type": "markdown",
      "metadata": {
        "id": "B4_ipDrAnJCB"
      },
      "source": [
        "Carga de la base de datos y creación del data frame:"
      ]
    },
    {
      "cell_type": "code",
      "metadata": {
        "colab": {
          "base_uri": "https://localhost:8080/",
          "height": 206
        },
        "id": "O5_ma-Z1nJCB",
        "outputId": "5fc4f679-2288-42e3-b0be-82f5045f2257"
      },
      "source": [
        "df = pd.read_csv('/content/drive/Shareddrives/EQUIPO RETO CIENCIA DE DATOS/datos_tec.csv')\n",
        "df.head()"
      ],
      "execution_count": null,
      "outputs": [
        {
          "output_type": "execute_result",
          "data": {
            "text/html": [
              "<div>\n",
              "<style scoped>\n",
              "    .dataframe tbody tr th:only-of-type {\n",
              "        vertical-align: middle;\n",
              "    }\n",
              "\n",
              "    .dataframe tbody tr th {\n",
              "        vertical-align: top;\n",
              "    }\n",
              "\n",
              "    .dataframe thead th {\n",
              "        text-align: right;\n",
              "    }\n",
              "</style>\n",
              "<table border=\"1\" class=\"dataframe\">\n",
              "  <thead>\n",
              "    <tr style=\"text-align: right;\">\n",
              "      <th></th>\n",
              "      <th>TIME</th>\n",
              "      <th>Dureza</th>\n",
              "      <th>Tasa_Prod</th>\n",
              "      <th>Asp</th>\n",
              "      <th>EC</th>\n",
              "      <th>EE</th>\n",
              "      <th>Calidad</th>\n",
              "    </tr>\n",
              "  </thead>\n",
              "  <tbody>\n",
              "    <tr>\n",
              "      <th>0</th>\n",
              "      <td>01/01/1995 0:00</td>\n",
              "      <td>100.0</td>\n",
              "      <td>368</td>\n",
              "      <td>2.78</td>\n",
              "      <td>15.1</td>\n",
              "      <td>29.7</td>\n",
              "      <td>0.053</td>\n",
              "    </tr>\n",
              "    <tr>\n",
              "      <th>1</th>\n",
              "      <td>02/01/1995 0:00</td>\n",
              "      <td>100.0</td>\n",
              "      <td>426</td>\n",
              "      <td>3.00</td>\n",
              "      <td>26.9</td>\n",
              "      <td>0.0</td>\n",
              "      <td>0.108</td>\n",
              "    </tr>\n",
              "    <tr>\n",
              "      <th>2</th>\n",
              "      <td>03/01/1995 0:00</td>\n",
              "      <td>101.0</td>\n",
              "      <td>446</td>\n",
              "      <td>3.00</td>\n",
              "      <td>29.5</td>\n",
              "      <td>0.0</td>\n",
              "      <td>0.098</td>\n",
              "    </tr>\n",
              "    <tr>\n",
              "      <th>3</th>\n",
              "      <td>04/01/1995 0:00</td>\n",
              "      <td>99.0</td>\n",
              "      <td>395</td>\n",
              "      <td>3.00</td>\n",
              "      <td>18.9</td>\n",
              "      <td>25.4</td>\n",
              "      <td>0.056</td>\n",
              "    </tr>\n",
              "    <tr>\n",
              "      <th>4</th>\n",
              "      <td>05/01/1995 0:00</td>\n",
              "      <td>102.0</td>\n",
              "      <td>380</td>\n",
              "      <td>3.00</td>\n",
              "      <td>17.5</td>\n",
              "      <td>26.6</td>\n",
              "      <td>0.051</td>\n",
              "    </tr>\n",
              "  </tbody>\n",
              "</table>\n",
              "</div>"
            ],
            "text/plain": [
              "              TIME  Dureza  Tasa_Prod   Asp    EC    EE  Calidad\n",
              "0  01/01/1995 0:00   100.0        368  2.78  15.1  29.7    0.053\n",
              "1  02/01/1995 0:00   100.0        426  3.00  26.9   0.0    0.108\n",
              "2  03/01/1995 0:00   101.0        446  3.00  29.5   0.0    0.098\n",
              "3  04/01/1995 0:00    99.0        395  3.00  18.9  25.4    0.056\n",
              "4  05/01/1995 0:00   102.0        380  3.00  17.5  26.6    0.051"
            ]
          },
          "metadata": {
            "tags": []
          },
          "execution_count": 6
        }
      ]
    },
    {
      "cell_type": "markdown",
      "metadata": {
        "id": "M1xlU2hXnJCD"
      },
      "source": [
        "Conteo de registros por columna:"
      ]
    },
    {
      "cell_type": "code",
      "metadata": {
        "id": "k7EoN5gOnJCD",
        "colab": {
          "base_uri": "https://localhost:8080/"
        },
        "outputId": "8a755b08-efdc-4b7b-def5-03a961706bb3"
      },
      "source": [
        "df.shape"
      ],
      "execution_count": null,
      "outputs": [
        {
          "output_type": "execute_result",
          "data": {
            "text/plain": [
              "(9392, 7)"
            ]
          },
          "metadata": {
            "tags": []
          },
          "execution_count": 7
        }
      ]
    },
    {
      "cell_type": "markdown",
      "metadata": {
        "id": "xsRRlKJFnJCE"
      },
      "source": [
        "Identificación de valores nulos en la base de datos:"
      ]
    },
    {
      "cell_type": "code",
      "metadata": {
        "id": "x20AaamznJCF",
        "colab": {
          "base_uri": "https://localhost:8080/"
        },
        "outputId": "b6f66273-b976-420a-a62d-60b091f7da12"
      },
      "source": [
        "df.isnull().values.any()"
      ],
      "execution_count": null,
      "outputs": [
        {
          "output_type": "execute_result",
          "data": {
            "text/plain": [
              "True"
            ]
          },
          "metadata": {
            "tags": []
          },
          "execution_count": 27
        }
      ]
    },
    {
      "cell_type": "markdown",
      "metadata": {
        "id": "YKSpxuYfnJCG"
      },
      "source": [
        "Conteo de valores nulos por columna:"
      ]
    },
    {
      "cell_type": "code",
      "metadata": {
        "scrolled": true,
        "id": "8R2EOIZ8nJCH",
        "colab": {
          "base_uri": "https://localhost:8080/"
        },
        "outputId": "3487ff5a-3c22-4867-e166-63b63d613417"
      },
      "source": [
        "df.isnull().sum()"
      ],
      "execution_count": null,
      "outputs": [
        {
          "output_type": "execute_result",
          "data": {
            "text/plain": [
              "TIME         0\n",
              "Dureza       1\n",
              "Tasa_Prod    0\n",
              "Asp          1\n",
              "EC           0\n",
              "EE           0\n",
              "Calidad      0\n",
              "dtype: int64"
            ]
          },
          "metadata": {
            "tags": []
          },
          "execution_count": 28
        }
      ]
    },
    {
      "cell_type": "markdown",
      "metadata": {
        "id": "xsTeEnOMnJCI"
      },
      "source": [
        "Se eliminan las filas en las que se encuentra algún valor nulo, en este caso solo existen dos, por lo que es un cambio mínimo y el análisis no se verá afectado con dos registros menos."
      ]
    },
    {
      "cell_type": "code",
      "metadata": {
        "id": "4qKCiCB2nJCJ"
      },
      "source": [
        "df.dropna(axis=0,how='any', thresh=None, subset=None, inplace=True)"
      ],
      "execution_count": null,
      "outputs": []
    },
    {
      "cell_type": "markdown",
      "metadata": {
        "id": "4GROrnHznJCK"
      },
      "source": [
        "Se comprueba que ya no existen valores nulos:"
      ]
    },
    {
      "cell_type": "code",
      "metadata": {
        "id": "4yVhzmrAnJCK",
        "colab": {
          "base_uri": "https://localhost:8080/"
        },
        "outputId": "3b5e8eed-4c4a-4628-9c5d-10e84b92c0f3"
      },
      "source": [
        "df.isnull().sum()"
      ],
      "execution_count": null,
      "outputs": [
        {
          "output_type": "execute_result",
          "data": {
            "text/plain": [
              "TIME         0\n",
              "Dureza       0\n",
              "Tasa_Prod    0\n",
              "Asp          0\n",
              "EC           0\n",
              "EE           0\n",
              "Calidad      0\n",
              "dtype: int64"
            ]
          },
          "metadata": {
            "tags": []
          },
          "execution_count": 30
        }
      ]
    },
    {
      "cell_type": "code",
      "metadata": {
        "id": "O3ecjaVSnJCL",
        "colab": {
          "base_uri": "https://localhost:8080/"
        },
        "outputId": "0a156f29-06c2-4162-9de2-fa281cc87fa3"
      },
      "source": [
        "df.shape"
      ],
      "execution_count": null,
      "outputs": [
        {
          "output_type": "execute_result",
          "data": {
            "text/plain": [
              "(9390, 7)"
            ]
          },
          "metadata": {
            "tags": []
          },
          "execution_count": 31
        }
      ]
    },
    {
      "cell_type": "markdown",
      "metadata": {
        "id": "tL1kEu9mnJCM"
      },
      "source": [
        "Revisamos el tipo de datos que contiene cada columna:"
      ]
    },
    {
      "cell_type": "code",
      "metadata": {
        "id": "3NqAi-nsnJCM",
        "colab": {
          "base_uri": "https://localhost:8080/"
        },
        "outputId": "02e2557c-a1cf-4708-be3c-8606ed18009f"
      },
      "source": [
        "df.dtypes"
      ],
      "execution_count": null,
      "outputs": [
        {
          "output_type": "execute_result",
          "data": {
            "text/plain": [
              "TIME          object\n",
              "Dureza       float64\n",
              "Tasa_Prod      int64\n",
              "Asp          float64\n",
              "EC           float64\n",
              "EE           float64\n",
              "Calidad      float64\n",
              "dtype: object"
            ]
          },
          "metadata": {
            "tags": []
          },
          "execution_count": 32
        }
      ]
    },
    {
      "cell_type": "markdown",
      "metadata": {
        "id": "_61fghgbnJCN"
      },
      "source": [
        "Obtención de las métricas básicas del arreglo inicial:"
      ]
    },
    {
      "cell_type": "code",
      "metadata": {
        "id": "p2egToRrnJCN",
        "colab": {
          "base_uri": "https://localhost:8080/"
        },
        "outputId": "45e7c756-208f-4e24-c9da-37a432cafbe4"
      },
      "source": [
        "df.median()"
      ],
      "execution_count": null,
      "outputs": [
        {
          "output_type": "execute_result",
          "data": {
            "text/plain": [
              "Dureza       104.000\n",
              "Tasa_Prod    398.000\n",
              "Asp            3.260\n",
              "EC            19.200\n",
              "EE            20.000\n",
              "Calidad        0.081\n",
              "dtype: float64"
            ]
          },
          "metadata": {
            "tags": []
          },
          "execution_count": 33
        }
      ]
    },
    {
      "cell_type": "code",
      "metadata": {
        "id": "A2aQFKkYnJCO",
        "colab": {
          "base_uri": "https://localhost:8080/"
        },
        "outputId": "539c088d-b781-409b-be13-23fb8c333b0c"
      },
      "source": [
        "df.max()"
      ],
      "execution_count": null,
      "outputs": [
        {
          "output_type": "execute_result",
          "data": {
            "text/plain": [
              "TIME         31/12/2019 0:00\n",
              "Dureza                   112\n",
              "Tasa_Prod                480\n",
              "Asp                     3.52\n",
              "EC                      40.4\n",
              "EE                      35.3\n",
              "Calidad                    1\n",
              "dtype: object"
            ]
          },
          "metadata": {
            "tags": []
          },
          "execution_count": 34
        }
      ]
    },
    {
      "cell_type": "code",
      "metadata": {
        "id": "sHw_75msnJCO",
        "colab": {
          "base_uri": "https://localhost:8080/"
        },
        "outputId": "ae08434b-71c2-48ae-e424-75fb3c935a67"
      },
      "source": [
        "df.min()"
      ],
      "execution_count": null,
      "outputs": [
        {
          "output_type": "execute_result",
          "data": {
            "text/plain": [
              "TIME         01/01/1995 0:00\n",
              "Dureza                    80\n",
              "Tasa_Prod                  0\n",
              "Asp                     0.09\n",
              "EC                         0\n",
              "EE                         0\n",
              "Calidad                    0\n",
              "dtype: object"
            ]
          },
          "metadata": {
            "tags": []
          },
          "execution_count": 35
        }
      ]
    },
    {
      "cell_type": "code",
      "metadata": {
        "id": "hULIn9CGnJCP",
        "colab": {
          "base_uri": "https://localhost:8080/"
        },
        "outputId": "9cb2a2cc-ea4b-419c-8de9-fb8836b6fa2e"
      },
      "source": [
        "df.std()"
      ],
      "execution_count": null,
      "outputs": [
        {
          "output_type": "execute_result",
          "data": {
            "text/plain": [
              "Dureza        2.049142\n",
              "Tasa_Prod    43.357246\n",
              "Asp           0.375264\n",
              "EC            6.698935\n",
              "EE            8.035938\n",
              "Calidad       0.048824\n",
              "dtype: float64"
            ]
          },
          "metadata": {
            "tags": []
          },
          "execution_count": 36
        }
      ]
    },
    {
      "cell_type": "code",
      "metadata": {
        "id": "sQtdsXCLnJCP",
        "colab": {
          "base_uri": "https://localhost:8080/",
          "height": 142
        },
        "outputId": "990f0ad1-9a4f-46d7-b578-61c7d8c98240"
      },
      "source": [
        "df.quantile([0.25,0.5,0.75])"
      ],
      "execution_count": null,
      "outputs": [
        {
          "output_type": "execute_result",
          "data": {
            "text/html": [
              "<div>\n",
              "<style scoped>\n",
              "    .dataframe tbody tr th:only-of-type {\n",
              "        vertical-align: middle;\n",
              "    }\n",
              "\n",
              "    .dataframe tbody tr th {\n",
              "        vertical-align: top;\n",
              "    }\n",
              "\n",
              "    .dataframe thead th {\n",
              "        text-align: right;\n",
              "    }\n",
              "</style>\n",
              "<table border=\"1\" class=\"dataframe\">\n",
              "  <thead>\n",
              "    <tr style=\"text-align: right;\">\n",
              "      <th></th>\n",
              "      <th>Dureza</th>\n",
              "      <th>Tasa_Prod</th>\n",
              "      <th>Asp</th>\n",
              "      <th>EC</th>\n",
              "      <th>EE</th>\n",
              "      <th>Calidad</th>\n",
              "    </tr>\n",
              "  </thead>\n",
              "  <tbody>\n",
              "    <tr>\n",
              "      <th>0.25</th>\n",
              "      <td>103.0</td>\n",
              "      <td>383.0</td>\n",
              "      <td>3.04</td>\n",
              "      <td>15.9</td>\n",
              "      <td>14.2</td>\n",
              "      <td>0.061</td>\n",
              "    </tr>\n",
              "    <tr>\n",
              "      <th>0.50</th>\n",
              "      <td>104.0</td>\n",
              "      <td>398.0</td>\n",
              "      <td>3.26</td>\n",
              "      <td>19.2</td>\n",
              "      <td>20.0</td>\n",
              "      <td>0.081</td>\n",
              "    </tr>\n",
              "    <tr>\n",
              "      <th>0.75</th>\n",
              "      <td>105.0</td>\n",
              "      <td>408.0</td>\n",
              "      <td>3.38</td>\n",
              "      <td>23.5</td>\n",
              "      <td>25.2</td>\n",
              "      <td>0.107</td>\n",
              "    </tr>\n",
              "  </tbody>\n",
              "</table>\n",
              "</div>"
            ],
            "text/plain": [
              "      Dureza  Tasa_Prod   Asp    EC    EE  Calidad\n",
              "0.25   103.0      383.0  3.04  15.9  14.2    0.061\n",
              "0.50   104.0      398.0  3.26  19.2  20.0    0.081\n",
              "0.75   105.0      408.0  3.38  23.5  25.2    0.107"
            ]
          },
          "metadata": {
            "tags": []
          },
          "execution_count": 37
        }
      ]
    },
    {
      "cell_type": "code",
      "metadata": {
        "scrolled": true,
        "id": "tG1IYeiMnJCP",
        "colab": {
          "base_uri": "https://localhost:8080/",
          "height": 297
        },
        "outputId": "29745edd-db67-45e0-9c31-35ff5271e3ce"
      },
      "source": [
        "df.describe()"
      ],
      "execution_count": null,
      "outputs": [
        {
          "output_type": "execute_result",
          "data": {
            "text/html": [
              "<div>\n",
              "<style scoped>\n",
              "    .dataframe tbody tr th:only-of-type {\n",
              "        vertical-align: middle;\n",
              "    }\n",
              "\n",
              "    .dataframe tbody tr th {\n",
              "        vertical-align: top;\n",
              "    }\n",
              "\n",
              "    .dataframe thead th {\n",
              "        text-align: right;\n",
              "    }\n",
              "</style>\n",
              "<table border=\"1\" class=\"dataframe\">\n",
              "  <thead>\n",
              "    <tr style=\"text-align: right;\">\n",
              "      <th></th>\n",
              "      <th>Dureza</th>\n",
              "      <th>Tasa_Prod</th>\n",
              "      <th>Asp</th>\n",
              "      <th>EC</th>\n",
              "      <th>EE</th>\n",
              "      <th>Calidad</th>\n",
              "    </tr>\n",
              "  </thead>\n",
              "  <tbody>\n",
              "    <tr>\n",
              "      <th>count</th>\n",
              "      <td>9390.000000</td>\n",
              "      <td>9390.000000</td>\n",
              "      <td>9390.000000</td>\n",
              "      <td>9390.000000</td>\n",
              "      <td>9390.000000</td>\n",
              "      <td>9390.000000</td>\n",
              "    </tr>\n",
              "    <tr>\n",
              "      <th>mean</th>\n",
              "      <td>104.028754</td>\n",
              "      <td>391.003940</td>\n",
              "      <td>3.152330</td>\n",
              "      <td>19.361544</td>\n",
              "      <td>19.059350</td>\n",
              "      <td>0.089890</td>\n",
              "    </tr>\n",
              "    <tr>\n",
              "      <th>std</th>\n",
              "      <td>2.049142</td>\n",
              "      <td>43.357246</td>\n",
              "      <td>0.375264</td>\n",
              "      <td>6.698935</td>\n",
              "      <td>8.035938</td>\n",
              "      <td>0.048824</td>\n",
              "    </tr>\n",
              "    <tr>\n",
              "      <th>min</th>\n",
              "      <td>80.000000</td>\n",
              "      <td>0.000000</td>\n",
              "      <td>0.090000</td>\n",
              "      <td>0.000000</td>\n",
              "      <td>0.000000</td>\n",
              "      <td>0.000000</td>\n",
              "    </tr>\n",
              "    <tr>\n",
              "      <th>25%</th>\n",
              "      <td>103.000000</td>\n",
              "      <td>383.000000</td>\n",
              "      <td>3.040000</td>\n",
              "      <td>15.900000</td>\n",
              "      <td>14.200000</td>\n",
              "      <td>0.061000</td>\n",
              "    </tr>\n",
              "    <tr>\n",
              "      <th>50%</th>\n",
              "      <td>104.000000</td>\n",
              "      <td>398.000000</td>\n",
              "      <td>3.260000</td>\n",
              "      <td>19.200000</td>\n",
              "      <td>20.000000</td>\n",
              "      <td>0.081000</td>\n",
              "    </tr>\n",
              "    <tr>\n",
              "      <th>75%</th>\n",
              "      <td>105.000000</td>\n",
              "      <td>408.000000</td>\n",
              "      <td>3.380000</td>\n",
              "      <td>23.500000</td>\n",
              "      <td>25.200000</td>\n",
              "      <td>0.107000</td>\n",
              "    </tr>\n",
              "    <tr>\n",
              "      <th>max</th>\n",
              "      <td>112.000000</td>\n",
              "      <td>480.000000</td>\n",
              "      <td>3.520000</td>\n",
              "      <td>40.400000</td>\n",
              "      <td>35.300000</td>\n",
              "      <td>1.000000</td>\n",
              "    </tr>\n",
              "  </tbody>\n",
              "</table>\n",
              "</div>"
            ],
            "text/plain": [
              "            Dureza    Tasa_Prod  ...           EE      Calidad\n",
              "count  9390.000000  9390.000000  ...  9390.000000  9390.000000\n",
              "mean    104.028754   391.003940  ...    19.059350     0.089890\n",
              "std       2.049142    43.357246  ...     8.035938     0.048824\n",
              "min      80.000000     0.000000  ...     0.000000     0.000000\n",
              "25%     103.000000   383.000000  ...    14.200000     0.061000\n",
              "50%     104.000000   398.000000  ...    20.000000     0.081000\n",
              "75%     105.000000   408.000000  ...    25.200000     0.107000\n",
              "max     112.000000   480.000000  ...    35.300000     1.000000\n",
              "\n",
              "[8 rows x 6 columns]"
            ]
          },
          "metadata": {
            "tags": []
          },
          "execution_count": 38
        }
      ]
    },
    {
      "cell_type": "markdown",
      "metadata": {
        "id": "i5dHxiO4ulUg"
      },
      "source": [
        "**Para identificar los outliers de cada columna:**"
      ]
    },
    {
      "cell_type": "code",
      "metadata": {
        "id": "bp2AoaAtnJCQ"
      },
      "source": [
        "import seaborn as sns # Libreria de visualización\n",
        "import matplotlib.pyplot as plt\n"
      ],
      "execution_count": null,
      "outputs": []
    },
    {
      "cell_type": "code",
      "metadata": {
        "colab": {
          "base_uri": "https://localhost:8080/",
          "height": 297
        },
        "id": "ZmEwUCUcsjue",
        "outputId": "e48bf9d6-e72e-496c-fa23-f4de0ca54a43"
      },
      "source": [
        "sns.boxplot(x=df['Dureza'], showfliers =True)\n"
      ],
      "execution_count": null,
      "outputs": [
        {
          "output_type": "execute_result",
          "data": {
            "text/plain": [
              "<matplotlib.axes._subplots.AxesSubplot at 0x7f8d47b5b978>"
            ]
          },
          "metadata": {
            "tags": []
          },
          "execution_count": 9
        },
        {
          "output_type": "display_data",
          "data": {
            "image/png": "[encoded data removed]",
            "text/plain": [
              "<Figure size 432x288 with 1 Axes>"
            ]
          },
          "metadata": {
            "tags": [],
            "needs_background": "light"
          }
        }
      ]
    },
    {
      "cell_type": "code",
      "metadata": {
        "colab": {
          "base_uri": "https://localhost:8080/",
          "height": 298
        },
        "id": "CXLmbH7wwYE2",
        "outputId": "5fd8cc4f-f763-439a-d99d-2ca826e161ab"
      },
      "source": [
        "sns.boxplot(x=df['Tasa_Prod'])"
      ],
      "execution_count": null,
      "outputs": [
        {
          "output_type": "execute_result",
          "data": {
            "text/plain": [
              "<matplotlib.axes._subplots.AxesSubplot at 0x7f8d47aa6630>"
            ]
          },
          "metadata": {
            "tags": []
          },
          "execution_count": 10
        },
        {
          "output_type": "display_data",
          "data": {
            "image/png": "[encoded data removed]",
            "text/plain": [
              "<Figure size 432x288 with 1 Axes>"
            ]
          },
          "metadata": {
            "tags": [],
            "needs_background": "light"
          }
        }
      ]
    },
    {
      "cell_type": "code",
      "metadata": {
        "colab": {
          "base_uri": "https://localhost:8080/",
          "height": 297
        },
        "id": "6jP0A4z7wcsV",
        "outputId": "17c02638-cd7a-4b55-bfd4-29175c8f8fb8"
      },
      "source": [
        "sns.boxplot(x=df['Asp'])"
      ],
      "execution_count": null,
      "outputs": [
        {
          "output_type": "execute_result",
          "data": {
            "text/plain": [
              "<matplotlib.axes._subplots.AxesSubplot at 0x7f8d47630860>"
            ]
          },
          "metadata": {
            "tags": []
          },
          "execution_count": 11
        },
        {
          "output_type": "display_data",
          "data": {
            "image/png": "[encoded data removed]",
            "text/plain": [
              "<Figure size 432x288 with 1 Axes>"
            ]
          },
          "metadata": {
            "tags": [],
            "needs_background": "light"
          }
        }
      ]
    },
    {
      "cell_type": "code",
      "metadata": {
        "colab": {
          "base_uri": "https://localhost:8080/",
          "height": 297
        },
        "id": "71OvxHVZwfZ-",
        "outputId": "dc00b715-d45b-46d3-ce9c-3e0e67445270"
      },
      "source": [
        "sns.boxplot(x=df['EC'])"
      ],
      "execution_count": null,
      "outputs": [
        {
          "output_type": "execute_result",
          "data": {
            "text/plain": [
              "<matplotlib.axes._subplots.AxesSubplot at 0x7f8d475c19b0>"
            ]
          },
          "metadata": {
            "tags": []
          },
          "execution_count": 12
        },
        {
          "output_type": "display_data",
          "data": {
            "image/png": "[encoded data removed]",
            "text/plain": [
              "<Figure size 432x288 with 1 Axes>"
            ]
          },
          "metadata": {
            "tags": [],
            "needs_background": "light"
          }
        }
      ]
    },
    {
      "cell_type": "code",
      "metadata": {
        "colab": {
          "base_uri": "https://localhost:8080/",
          "height": 297
        },
        "id": "3FDKsxFWwjCu",
        "outputId": "b43de1cb-1562-42a2-a5d7-46921b16c9a8"
      },
      "source": [
        "sns.boxplot(x=df['EE'])"
      ],
      "execution_count": null,
      "outputs": [
        {
          "output_type": "execute_result",
          "data": {
            "text/plain": [
              "<matplotlib.axes._subplots.AxesSubplot at 0x7f8d47531e48>"
            ]
          },
          "metadata": {
            "tags": []
          },
          "execution_count": 13
        },
        {
          "output_type": "display_data",
          "data": {
            "image/png": "[encoded data removed]",
            "text/plain": [
              "<Figure size 432x288 with 1 Axes>"
            ]
          },
          "metadata": {
            "tags": [],
            "needs_background": "light"
          }
        }
      ]
    },
    {
      "cell_type": "code",
      "metadata": {
        "colab": {
          "base_uri": "https://localhost:8080/",
          "height": 297
        },
        "id": "3niy8lTuwlPn",
        "outputId": "bbb0539d-14f5-4ca6-805b-9f1b79b72ee7"
      },
      "source": [
        "sns.boxplot(x=df['Calidad'])"
      ],
      "execution_count": null,
      "outputs": [
        {
          "output_type": "execute_result",
          "data": {
            "text/plain": [
              "<matplotlib.axes._subplots.AxesSubplot at 0x7f8d4748fbe0>"
            ]
          },
          "metadata": {
            "tags": []
          },
          "execution_count": 14
        },
        {
          "output_type": "display_data",
          "data": {
            "image/png": "[encoded data removed]",
            "text/plain": [
              "<Figure size 432x288 with 1 Axes>"
            ]
          },
          "metadata": {
            "tags": [],
            "needs_background": "light"
          }
        }
      ]
    },
    {
      "cell_type": "markdown",
      "metadata": {
        "id": "3JlTQBvn6zkT"
      },
      "source": [
        "**Eliminar Outliers**"
      ]
    },
    {
      "cell_type": "code",
      "metadata": {
        "id": "Utk0s8Kb6Afe"
      },
      "source": [
        "# Eliminar Outliers\n",
        "\n",
        "\n"
      ],
      "execution_count": null,
      "outputs": []
    },
    {
      "cell_type": "markdown",
      "metadata": {
        "id": "9YY1Khok62et"
      },
      "source": [
        "**Análisis de correlación de datos**"
      ]
    },
    {
      "cell_type": "code",
      "metadata": {
        "id": "z-Xi_2zA6Cd-",
        "colab": {
          "base_uri": "https://localhost:8080/",
          "height": 270
        },
        "outputId": "ed6c3e6c-702d-4447-c44d-385e3bcb599d"
      },
      "source": [
        "# Análisis de correlación de datos\n",
        "\n",
        "df_small = df.iloc[:,:]\n",
        "\n",
        "correlation_mat = df_small.corr()\n",
        "\n",
        "sns.heatmap(correlation_mat, annot = True)\n",
        "\n",
        "plt.show()"
      ],
      "execution_count": null,
      "outputs": [
        {
          "output_type": "display_data",
          "data": {
            "image/png": "[encoded data removed]",
            "text/plain": [
              "<Figure size 432x288 with 2 Axes>"
            ]
          },
          "metadata": {
            "tags": [],
            "needs_background": "light"
          }
        }
      ]
    },
    {
      "cell_type": "markdown",
      "metadata": {
        "id": "gd20sRkq7CwN"
      },
      "source": [
        "**Histograma por variables**"
      ]
    },
    {
      "cell_type": "code",
      "metadata": {
        "id": "X__mdMeL6GTk"
      },
      "source": [
        "# Histograma de las variables \n",
        "\n",
        "plt.figure(figzise=[10,5])\n",
        "tasa_prod = df.iloc[:, 1]\n",
        "t = tasa_prod"
      ],
      "execution_count": null,
      "outputs": []
    },
    {
      "cell_type": "code",
      "metadata": {
        "colab": {
          "base_uri": "https://localhost:8080/",
          "height": 408
        },
        "id": "IH_jt5yoCP2t",
        "outputId": "2f673e99-547c-4ccb-e91c-aab0274c8d38"
      },
      "source": [
        "df.hist()"
      ],
      "execution_count": null,
      "outputs": [
        {
          "output_type": "execute_result",
          "data": {
            "text/plain": [
              "array([[<matplotlib.axes._subplots.AxesSubplot object at 0x7f8d3ea41cf8>,\n",
              "        <matplotlib.axes._subplots.AxesSubplot object at 0x7f8d3e99fcf8>],\n",
              "       [<matplotlib.axes._subplots.AxesSubplot object at 0x7f8d3e954f60>,\n",
              "        <matplotlib.axes._subplots.AxesSubplot object at 0x7f8d3e914208>],\n",
              "       [<matplotlib.axes._subplots.AxesSubplot object at 0x7f8d3e8c6470>,\n",
              "        <matplotlib.axes._subplots.AxesSubplot object at 0x7f8d3e8fc6d8>]],\n",
              "      dtype=object)"
            ]
          },
          "metadata": {
            "tags": []
          },
          "execution_count": 17
        },
        {
          "output_type": "display_data",
          "data": {
            "image/png": "[encoded data removed]",
            "text/plain": [
              "<Figure size 432x288 with 6 Axes>"
            ]
          },
          "metadata": {
            "tags": [],
            "needs_background": "light"
          }
        }
      ]
    },
    {
      "cell_type": "markdown",
      "metadata": {
        "id": "WmrDcFLW7Fqt"
      },
      "source": [
        "**Diagramas de dispersión de las variables EE y EC con el resto de las variables para encontrar posibles patrones**"
      ]
    },
    {
      "cell_type": "code",
      "metadata": {
        "colab": {
          "base_uri": "https://localhost:8080/",
          "height": 497
        },
        "id": "_5UdrE4B5VCK",
        "outputId": "9a781411-a474-43b9-ad7e-328e2cae69aa"
      },
      "source": [
        "# Código de scatter plot (dispersión)\n",
        "# EC y Dureza\n",
        "fig, ax = plt.subplots(figsize=(16,8))\n",
        "ax.scatter(df['EC'], df['Dureza'], s = 0.120, c = 'm', marker = 'x')\n",
        "ax.set_xlabel('Energía calórica')\n",
        "ax.set_ylabel('Dureza')\n",
        "plt.show()"
      ],
      "execution_count": null,
      "outputs": [
        {
          "output_type": "display_data",
          "data": {
            "image/png": "[encoded data removed]",
            "text/plain": [
              "<Figure size 1152x576 with 1 Axes>"
            ]
          },
          "metadata": {
            "tags": [],
            "needs_background": "light"
          }
        }
      ]
    }
  ]
}