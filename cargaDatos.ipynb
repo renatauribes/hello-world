{
 "cells": [
  {
   "cell_type": "markdown",
   "metadata": {},
   "source": [
    "# Carga de datos"
   ]
  },
  {
   "cell_type": "markdown",
   "metadata": {},
   "source": [
    "Importación de las librerías:."
   ]
  },
  {
   "cell_type": "code",
   "execution_count": 3,
   "metadata": {},
   "outputs": [],
   "source": [
    "import pandas as pd\n",
    "import numpy as np\n",
    "import matplotlib.pyplot as plt"
   ]
  },
  {
   "cell_type": "markdown",
   "metadata": {},
   "source": [
    "Carga de la base de datos y creación del data frame:"
   ]
  },
  {
   "cell_type": "code",
   "execution_count": 4,
   "metadata": {},
   "outputs": [
    {
     "data": {
      "text/html": [
       "<div>\n",
       "<style scoped>\n",
       "    .dataframe tbody tr th:only-of-type {\n",
       "        vertical-align: middle;\n",
       "    }\n",
       "\n",
       "    .dataframe tbody tr th {\n",
       "        vertical-align: top;\n",
       "    }\n",
       "\n",
       "    .dataframe thead th {\n",
       "        text-align: right;\n",
       "    }\n",
       "</style>\n",
       "<table border=\"1\" class=\"dataframe\">\n",
       "  <thead>\n",
       "    <tr style=\"text-align: right;\">\n",
       "      <th></th>\n",
       "      <th>TIME</th>\n",
       "      <th>Dureza</th>\n",
       "      <th>Tasa_Prod</th>\n",
       "      <th>Asp</th>\n",
       "      <th>EC</th>\n",
       "      <th>EE</th>\n",
       "      <th>Calidad</th>\n",
       "    </tr>\n",
       "  </thead>\n",
       "  <tbody>\n",
       "    <tr>\n",
       "      <td>0</td>\n",
       "      <td>01/01/1995 0:00</td>\n",
       "      <td>100.0</td>\n",
       "      <td>368</td>\n",
       "      <td>2.78</td>\n",
       "      <td>15.1</td>\n",
       "      <td>29.7</td>\n",
       "      <td>0.053</td>\n",
       "    </tr>\n",
       "    <tr>\n",
       "      <td>1</td>\n",
       "      <td>02/01/1995 0:00</td>\n",
       "      <td>100.0</td>\n",
       "      <td>426</td>\n",
       "      <td>3.00</td>\n",
       "      <td>26.9</td>\n",
       "      <td>0.0</td>\n",
       "      <td>0.108</td>\n",
       "    </tr>\n",
       "    <tr>\n",
       "      <td>2</td>\n",
       "      <td>03/01/1995 0:00</td>\n",
       "      <td>101.0</td>\n",
       "      <td>446</td>\n",
       "      <td>3.00</td>\n",
       "      <td>29.5</td>\n",
       "      <td>0.0</td>\n",
       "      <td>0.098</td>\n",
       "    </tr>\n",
       "    <tr>\n",
       "      <td>3</td>\n",
       "      <td>04/01/1995 0:00</td>\n",
       "      <td>99.0</td>\n",
       "      <td>395</td>\n",
       "      <td>3.00</td>\n",
       "      <td>18.9</td>\n",
       "      <td>25.4</td>\n",
       "      <td>0.056</td>\n",
       "    </tr>\n",
       "    <tr>\n",
       "      <td>4</td>\n",
       "      <td>05/01/1995 0:00</td>\n",
       "      <td>102.0</td>\n",
       "      <td>380</td>\n",
       "      <td>3.00</td>\n",
       "      <td>17.5</td>\n",
       "      <td>26.6</td>\n",
       "      <td>0.051</td>\n",
       "    </tr>\n",
       "  </tbody>\n",
       "</table>\n",
       "</div>"
      ],
      "text/plain": [
       "              TIME  Dureza  Tasa_Prod   Asp    EC    EE  Calidad\n",
       "0  01/01/1995 0:00   100.0        368  2.78  15.1  29.7    0.053\n",
       "1  02/01/1995 0:00   100.0        426  3.00  26.9   0.0    0.108\n",
       "2  03/01/1995 0:00   101.0        446  3.00  29.5   0.0    0.098\n",
       "3  04/01/1995 0:00    99.0        395  3.00  18.9  25.4    0.056\n",
       "4  05/01/1995 0:00   102.0        380  3.00  17.5  26.6    0.051"
      ]
     },
     "execution_count": 4,
     "metadata": {},
     "output_type": "execute_result"
    }
   ],
   "source": [
    "df = pd.read_csv('datos_tec.csv')\n",
    "df.head()"
   ]
  },
  {
   "cell_type": "markdown",
   "metadata": {},
   "source": [
    "Conteo de registros por columna:"
   ]
  },
  {
   "cell_type": "code",
   "execution_count": 5,
   "metadata": {},
   "outputs": [
    {
     "data": {
      "text/plain": [
       "(9392, 7)"
      ]
     },
     "execution_count": 5,
     "metadata": {},
     "output_type": "execute_result"
    }
   ],
   "source": [
    "df.shape"
   ]
  },
  {
   "cell_type": "markdown",
   "metadata": {},
   "source": [
    "Identificación de valores nulos en la base de datos:"
   ]
  },
  {
   "cell_type": "code",
   "execution_count": 6,
   "metadata": {},
   "outputs": [
    {
     "data": {
      "text/plain": [
       "True"
      ]
     },
     "execution_count": 6,
     "metadata": {},
     "output_type": "execute_result"
    }
   ],
   "source": [
    "df.isnull().values.any()"
   ]
  },
  {
   "cell_type": "markdown",
   "metadata": {},
   "source": [
    "Conteo de valores nulos por columna:"
   ]
  },
  {
   "cell_type": "code",
   "execution_count": 21,
   "metadata": {
    "scrolled": true
   },
   "outputs": [
    {
     "data": {
      "text/plain": [
       "TIME         0\n",
       "Dureza       1\n",
       "Tasa_Prod    0\n",
       "Asp          1\n",
       "EC           0\n",
       "EE           0\n",
       "Calidad      0\n",
       "dtype: int64"
      ]
     },
     "execution_count": 21,
     "metadata": {},
     "output_type": "execute_result"
    }
   ],
   "source": [
    "df.isnull().sum()"
   ]
  },
  {
   "cell_type": "markdown",
   "metadata": {},
   "source": [
    "Se eliminan las filas en las que se encuentra algún valor nulo, en este caso solo existen dos, por lo que es un cambio mínimo y el análisis no se verá afectado con dos registros menos."
   ]
  },
  {
   "cell_type": "code",
   "execution_count": 23,
   "metadata": {},
   "outputs": [],
   "source": [
    "df.dropna(axis=0,how='any', thresh=None, subset=None, inplace=True)"
   ]
  },
  {
   "cell_type": "markdown",
   "metadata": {},
   "source": [
    "Se comprueba que ya no existen valores nulos:"
   ]
  },
  {
   "cell_type": "code",
   "execution_count": 24,
   "metadata": {},
   "outputs": [
    {
     "data": {
      "text/plain": [
       "TIME         0\n",
       "Dureza       0\n",
       "Tasa_Prod    0\n",
       "Asp          0\n",
       "EC           0\n",
       "EE           0\n",
       "Calidad      0\n",
       "dtype: int64"
      ]
     },
     "execution_count": 24,
     "metadata": {},
     "output_type": "execute_result"
    }
   ],
   "source": [
    "df.isnull().sum()"
   ]
  },
  {
   "cell_type": "code",
   "execution_count": 25,
   "metadata": {},
   "outputs": [
    {
     "data": {
      "text/plain": [
       "(9390, 7)"
      ]
     },
     "execution_count": 25,
     "metadata": {},
     "output_type": "execute_result"
    }
   ],
   "source": [
    "df.shape"
   ]
  },
  {
   "cell_type": "markdown",
   "metadata": {},
   "source": [
    "Revisamos el tipo de datos que contiene cada columna:"
   ]
  },
  {
   "cell_type": "code",
   "execution_count": 26,
   "metadata": {},
   "outputs": [
    {
     "data": {
      "text/plain": [
       "TIME          object\n",
       "Dureza       float64\n",
       "Tasa_Prod      int64\n",
       "Asp          float64\n",
       "EC           float64\n",
       "EE           float64\n",
       "Calidad      float64\n",
       "dtype: object"
      ]
     },
     "execution_count": 26,
     "metadata": {},
     "output_type": "execute_result"
    }
   ],
   "source": [
    "df.dtypes"
   ]
  },
  {
   "cell_type": "markdown",
   "metadata": {},
   "source": [
    "Obtención de las métricas básicas del arreglo inicial:"
   ]
  },
  {
   "cell_type": "code",
   "execution_count": 27,
   "metadata": {},
   "outputs": [
    {
     "data": {
      "text/plain": [
       "Dureza       104.000\n",
       "Tasa_Prod    398.000\n",
       "Asp            3.260\n",
       "EC            19.200\n",
       "EE            20.000\n",
       "Calidad        0.081\n",
       "dtype: float64"
      ]
     },
     "execution_count": 27,
     "metadata": {},
     "output_type": "execute_result"
    }
   ],
   "source": [
    "df.median()"
   ]
  },
  {
   "cell_type": "code",
   "execution_count": 13,
   "metadata": {},
   "outputs": [
    {
     "data": {
      "text/plain": [
       "TIME         31/12/2019 0:00\n",
       "Dureza                   112\n",
       "Tasa_Prod                480\n",
       "Asp                     3.52\n",
       "EC                      40.4\n",
       "EE                      35.3\n",
       "Calidad                    1\n",
       "dtype: object"
      ]
     },
     "execution_count": 13,
     "metadata": {},
     "output_type": "execute_result"
    }
   ],
   "source": [
    "df.max()"
   ]
  },
  {
   "cell_type": "code",
   "execution_count": 14,
   "metadata": {},
   "outputs": [
    {
     "data": {
      "text/plain": [
       "TIME         01/01/1995 0:00\n",
       "Dureza                    80\n",
       "Tasa_Prod                  0\n",
       "Asp                     0.09\n",
       "EC                         0\n",
       "EE                         0\n",
       "Calidad                    0\n",
       "dtype: object"
      ]
     },
     "execution_count": 14,
     "metadata": {},
     "output_type": "execute_result"
    }
   ],
   "source": [
    "df.min()"
   ]
  },
  {
   "cell_type": "code",
   "execution_count": 15,
   "metadata": {},
   "outputs": [
    {
     "data": {
      "text/plain": [
       "Dureza        2.049060\n",
       "Tasa_Prod    43.352777\n",
       "Asp           0.375251\n",
       "EC            6.698657\n",
       "EE            8.035162\n",
       "Calidad       0.048819\n",
       "dtype: float64"
      ]
     },
     "execution_count": 15,
     "metadata": {},
     "output_type": "execute_result"
    }
   ],
   "source": [
    "df.std()"
   ]
  },
  {
   "cell_type": "code",
   "execution_count": 16,
   "metadata": {},
   "outputs": [
    {
     "data": {
      "text/html": [
       "<div>\n",
       "<style scoped>\n",
       "    .dataframe tbody tr th:only-of-type {\n",
       "        vertical-align: middle;\n",
       "    }\n",
       "\n",
       "    .dataframe tbody tr th {\n",
       "        vertical-align: top;\n",
       "    }\n",
       "\n",
       "    .dataframe thead th {\n",
       "        text-align: right;\n",
       "    }\n",
       "</style>\n",
       "<table border=\"1\" class=\"dataframe\">\n",
       "  <thead>\n",
       "    <tr style=\"text-align: right;\">\n",
       "      <th></th>\n",
       "      <th>Dureza</th>\n",
       "      <th>Tasa_Prod</th>\n",
       "      <th>Asp</th>\n",
       "      <th>EC</th>\n",
       "      <th>EE</th>\n",
       "      <th>Calidad</th>\n",
       "    </tr>\n",
       "  </thead>\n",
       "  <tbody>\n",
       "    <tr>\n",
       "      <td>0.25</td>\n",
       "      <td>103.0</td>\n",
       "      <td>383.0</td>\n",
       "      <td>3.04</td>\n",
       "      <td>15.9</td>\n",
       "      <td>14.2</td>\n",
       "      <td>0.061</td>\n",
       "    </tr>\n",
       "    <tr>\n",
       "      <td>0.50</td>\n",
       "      <td>104.0</td>\n",
       "      <td>398.0</td>\n",
       "      <td>3.26</td>\n",
       "      <td>19.2</td>\n",
       "      <td>20.0</td>\n",
       "      <td>0.081</td>\n",
       "    </tr>\n",
       "    <tr>\n",
       "      <td>0.75</td>\n",
       "      <td>105.0</td>\n",
       "      <td>408.0</td>\n",
       "      <td>3.38</td>\n",
       "      <td>23.5</td>\n",
       "      <td>25.2</td>\n",
       "      <td>0.107</td>\n",
       "    </tr>\n",
       "  </tbody>\n",
       "</table>\n",
       "</div>"
      ],
      "text/plain": [
       "      Dureza  Tasa_Prod   Asp    EC    EE  Calidad\n",
       "0.25   103.0      383.0  3.04  15.9  14.2    0.061\n",
       "0.50   104.0      398.0  3.26  19.2  20.0    0.081\n",
       "0.75   105.0      408.0  3.38  23.5  25.2    0.107"
      ]
     },
     "execution_count": 16,
     "metadata": {},
     "output_type": "execute_result"
    }
   ],
   "source": [
    "df.quantile([0.25,0.5,0.75])"
   ]
  },
  {
   "cell_type": "code",
   "execution_count": 17,
   "metadata": {
    "scrolled": true
   },
   "outputs": [
    {
     "data": {
      "text/html": [
       "<div>\n",
       "<style scoped>\n",
       "    .dataframe tbody tr th:only-of-type {\n",
       "        vertical-align: middle;\n",
       "    }\n",
       "\n",
       "    .dataframe tbody tr th {\n",
       "        vertical-align: top;\n",
       "    }\n",
       "\n",
       "    .dataframe thead th {\n",
       "        text-align: right;\n",
       "    }\n",
       "</style>\n",
       "<table border=\"1\" class=\"dataframe\">\n",
       "  <thead>\n",
       "    <tr style=\"text-align: right;\">\n",
       "      <th></th>\n",
       "      <th>Dureza</th>\n",
       "      <th>Tasa_Prod</th>\n",
       "      <th>Asp</th>\n",
       "      <th>EC</th>\n",
       "      <th>EE</th>\n",
       "      <th>Calidad</th>\n",
       "    </tr>\n",
       "  </thead>\n",
       "  <tbody>\n",
       "    <tr>\n",
       "      <td>count</td>\n",
       "      <td>9391.000000</td>\n",
       "      <td>9392.000000</td>\n",
       "      <td>9391.000000</td>\n",
       "      <td>9392.000000</td>\n",
       "      <td>9392.000000</td>\n",
       "      <td>9392.000000</td>\n",
       "    </tr>\n",
       "    <tr>\n",
       "      <td>mean</td>\n",
       "      <td>104.028644</td>\n",
       "      <td>391.005111</td>\n",
       "      <td>3.152306</td>\n",
       "      <td>19.362425</td>\n",
       "      <td>19.059135</td>\n",
       "      <td>0.089891</td>\n",
       "    </tr>\n",
       "    <tr>\n",
       "      <td>std</td>\n",
       "      <td>2.049060</td>\n",
       "      <td>43.352777</td>\n",
       "      <td>0.375251</td>\n",
       "      <td>6.698657</td>\n",
       "      <td>8.035162</td>\n",
       "      <td>0.048819</td>\n",
       "    </tr>\n",
       "    <tr>\n",
       "      <td>min</td>\n",
       "      <td>80.000000</td>\n",
       "      <td>0.000000</td>\n",
       "      <td>0.090000</td>\n",
       "      <td>0.000000</td>\n",
       "      <td>0.000000</td>\n",
       "      <td>0.000000</td>\n",
       "    </tr>\n",
       "    <tr>\n",
       "      <td>25%</td>\n",
       "      <td>103.000000</td>\n",
       "      <td>383.000000</td>\n",
       "      <td>3.040000</td>\n",
       "      <td>15.900000</td>\n",
       "      <td>14.200000</td>\n",
       "      <td>0.061000</td>\n",
       "    </tr>\n",
       "    <tr>\n",
       "      <td>50%</td>\n",
       "      <td>104.000000</td>\n",
       "      <td>398.000000</td>\n",
       "      <td>3.260000</td>\n",
       "      <td>19.200000</td>\n",
       "      <td>20.000000</td>\n",
       "      <td>0.081000</td>\n",
       "    </tr>\n",
       "    <tr>\n",
       "      <td>75%</td>\n",
       "      <td>105.000000</td>\n",
       "      <td>408.000000</td>\n",
       "      <td>3.380000</td>\n",
       "      <td>23.500000</td>\n",
       "      <td>25.200000</td>\n",
       "      <td>0.107000</td>\n",
       "    </tr>\n",
       "    <tr>\n",
       "      <td>max</td>\n",
       "      <td>112.000000</td>\n",
       "      <td>480.000000</td>\n",
       "      <td>3.520000</td>\n",
       "      <td>40.400000</td>\n",
       "      <td>35.300000</td>\n",
       "      <td>1.000000</td>\n",
       "    </tr>\n",
       "  </tbody>\n",
       "</table>\n",
       "</div>"
      ],
      "text/plain": [
       "            Dureza    Tasa_Prod          Asp           EC           EE  \\\n",
       "count  9391.000000  9392.000000  9391.000000  9392.000000  9392.000000   \n",
       "mean    104.028644   391.005111     3.152306    19.362425    19.059135   \n",
       "std       2.049060    43.352777     0.375251     6.698657     8.035162   \n",
       "min      80.000000     0.000000     0.090000     0.000000     0.000000   \n",
       "25%     103.000000   383.000000     3.040000    15.900000    14.200000   \n",
       "50%     104.000000   398.000000     3.260000    19.200000    20.000000   \n",
       "75%     105.000000   408.000000     3.380000    23.500000    25.200000   \n",
       "max     112.000000   480.000000     3.520000    40.400000    35.300000   \n",
       "\n",
       "           Calidad  \n",
       "count  9392.000000  \n",
       "mean      0.089891  \n",
       "std       0.048819  \n",
       "min       0.000000  \n",
       "25%       0.061000  \n",
       "50%       0.081000  \n",
       "75%       0.107000  \n",
       "max       1.000000  "
      ]
     },
     "execution_count": 17,
     "metadata": {},
     "output_type": "execute_result"
    }
   ],
   "source": [
    "df.describe()"
   ]
  },
  {
   "cell_type": "code",
   "execution_count": null,
   "metadata": {},
   "outputs": [],
   "source": []
  }
 ],
 "metadata": {
  "kernelspec": {
   "display_name": "Python 3",
   "language": "python",
   "name": "python3"
  },
  "language_info": {
   "codemirror_mode": {
    "name": "ipython",
    "version": 3
   },
   "file_extension": ".py",
   "mimetype": "text/x-python",
   "name": "python",
   "nbconvert_exporter": "python",
   "pygments_lexer": "ipython3",
   "version": "3.7.4"
  }
 },
 "nbformat": 4,
 "nbformat_minor": 2
}
